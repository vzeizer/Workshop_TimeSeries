{
 "cells": [
  {
   "cell_type": "code",
   "execution_count": 1,
   "metadata": {},
   "outputs": [],
   "source": [
    "import pandas as pd\n",
    "import numpy as np\n",
    "%matplotlib inline\n",
    "\n",
    "from sklearn.metrics import mean_squared_log_error\n",
    "from sklearn.ensemble import RandomForestRegressor\n",
    "from lightgbm import LGBMRegressor\n",
    "\n",
    "import warnings\n",
    "warnings.filterwarnings('ignore')"
   ]
  },
  {
   "cell_type": "markdown",
   "metadata": {},
   "source": [
    "<h1>Preparando os dados</h1>\n",
    "\n",
    "Dados em [UCI Repository](https://archive.ics.uci.edu/ml/datasets/Sales_Transactions_Dataset_Weekly). "
   ]
  },
  {
   "cell_type": "markdown",
   "metadata": {},
   "source": [
    "# este estudo é baseado no Workshop de Time-Series do curso do Mario Filho"
   ]
  },
  {
   "cell_type": "code",
   "execution_count": 2,
   "metadata": {},
   "outputs": [
    {
     "data": {
      "text/html": [
       "<div>\n",
       "<style scoped>\n",
       "    .dataframe tbody tr th:only-of-type {\n",
       "        vertical-align: middle;\n",
       "    }\n",
       "\n",
       "    .dataframe tbody tr th {\n",
       "        vertical-align: top;\n",
       "    }\n",
       "\n",
       "    .dataframe thead th {\n",
       "        text-align: right;\n",
       "    }\n",
       "</style>\n",
       "<table border=\"1\" class=\"dataframe\">\n",
       "  <thead>\n",
       "    <tr style=\"text-align: right;\">\n",
       "      <th></th>\n",
       "      <th>Product_Code</th>\n",
       "      <th>W0</th>\n",
       "      <th>W1</th>\n",
       "      <th>W2</th>\n",
       "      <th>W3</th>\n",
       "      <th>W4</th>\n",
       "      <th>W5</th>\n",
       "      <th>W6</th>\n",
       "      <th>W7</th>\n",
       "      <th>W8</th>\n",
       "      <th>...</th>\n",
       "      <th>W42</th>\n",
       "      <th>W43</th>\n",
       "      <th>W44</th>\n",
       "      <th>W45</th>\n",
       "      <th>W46</th>\n",
       "      <th>W47</th>\n",
       "      <th>W48</th>\n",
       "      <th>W49</th>\n",
       "      <th>W50</th>\n",
       "      <th>W51</th>\n",
       "    </tr>\n",
       "  </thead>\n",
       "  <tbody>\n",
       "    <tr>\n",
       "      <th>0</th>\n",
       "      <td>P1</td>\n",
       "      <td>11</td>\n",
       "      <td>12</td>\n",
       "      <td>10</td>\n",
       "      <td>8</td>\n",
       "      <td>13</td>\n",
       "      <td>12</td>\n",
       "      <td>14</td>\n",
       "      <td>21</td>\n",
       "      <td>6</td>\n",
       "      <td>...</td>\n",
       "      <td>4</td>\n",
       "      <td>7</td>\n",
       "      <td>8</td>\n",
       "      <td>10</td>\n",
       "      <td>12</td>\n",
       "      <td>3</td>\n",
       "      <td>7</td>\n",
       "      <td>6</td>\n",
       "      <td>5</td>\n",
       "      <td>10</td>\n",
       "    </tr>\n",
       "    <tr>\n",
       "      <th>1</th>\n",
       "      <td>P2</td>\n",
       "      <td>7</td>\n",
       "      <td>6</td>\n",
       "      <td>3</td>\n",
       "      <td>2</td>\n",
       "      <td>7</td>\n",
       "      <td>1</td>\n",
       "      <td>6</td>\n",
       "      <td>3</td>\n",
       "      <td>3</td>\n",
       "      <td>...</td>\n",
       "      <td>2</td>\n",
       "      <td>4</td>\n",
       "      <td>5</td>\n",
       "      <td>1</td>\n",
       "      <td>1</td>\n",
       "      <td>4</td>\n",
       "      <td>5</td>\n",
       "      <td>1</td>\n",
       "      <td>6</td>\n",
       "      <td>0</td>\n",
       "    </tr>\n",
       "    <tr>\n",
       "      <th>2</th>\n",
       "      <td>P3</td>\n",
       "      <td>7</td>\n",
       "      <td>11</td>\n",
       "      <td>8</td>\n",
       "      <td>9</td>\n",
       "      <td>10</td>\n",
       "      <td>8</td>\n",
       "      <td>7</td>\n",
       "      <td>13</td>\n",
       "      <td>12</td>\n",
       "      <td>...</td>\n",
       "      <td>6</td>\n",
       "      <td>14</td>\n",
       "      <td>5</td>\n",
       "      <td>5</td>\n",
       "      <td>7</td>\n",
       "      <td>8</td>\n",
       "      <td>14</td>\n",
       "      <td>8</td>\n",
       "      <td>8</td>\n",
       "      <td>7</td>\n",
       "    </tr>\n",
       "    <tr>\n",
       "      <th>3</th>\n",
       "      <td>P4</td>\n",
       "      <td>12</td>\n",
       "      <td>8</td>\n",
       "      <td>13</td>\n",
       "      <td>5</td>\n",
       "      <td>9</td>\n",
       "      <td>6</td>\n",
       "      <td>9</td>\n",
       "      <td>13</td>\n",
       "      <td>13</td>\n",
       "      <td>...</td>\n",
       "      <td>9</td>\n",
       "      <td>10</td>\n",
       "      <td>3</td>\n",
       "      <td>4</td>\n",
       "      <td>6</td>\n",
       "      <td>8</td>\n",
       "      <td>14</td>\n",
       "      <td>8</td>\n",
       "      <td>7</td>\n",
       "      <td>8</td>\n",
       "    </tr>\n",
       "    <tr>\n",
       "      <th>4</th>\n",
       "      <td>P5</td>\n",
       "      <td>8</td>\n",
       "      <td>5</td>\n",
       "      <td>13</td>\n",
       "      <td>11</td>\n",
       "      <td>6</td>\n",
       "      <td>7</td>\n",
       "      <td>9</td>\n",
       "      <td>14</td>\n",
       "      <td>9</td>\n",
       "      <td>...</td>\n",
       "      <td>7</td>\n",
       "      <td>11</td>\n",
       "      <td>7</td>\n",
       "      <td>12</td>\n",
       "      <td>6</td>\n",
       "      <td>6</td>\n",
       "      <td>5</td>\n",
       "      <td>11</td>\n",
       "      <td>8</td>\n",
       "      <td>9</td>\n",
       "    </tr>\n",
       "  </tbody>\n",
       "</table>\n",
       "<p>5 rows × 53 columns</p>\n",
       "</div>"
      ],
      "text/plain": [
       "  Product_Code  W0  W1  W2  W3  W4  W5  W6  W7  W8  ...  W42  W43  W44  W45  \\\n",
       "0           P1  11  12  10   8  13  12  14  21   6  ...    4    7    8   10   \n",
       "1           P2   7   6   3   2   7   1   6   3   3  ...    2    4    5    1   \n",
       "2           P3   7  11   8   9  10   8   7  13  12  ...    6   14    5    5   \n",
       "3           P4  12   8  13   5   9   6   9  13  13  ...    9   10    3    4   \n",
       "4           P5   8   5  13  11   6   7   9  14   9  ...    7   11    7   12   \n",
       "\n",
       "   W46  W47  W48  W49  W50  W51  \n",
       "0   12    3    7    6    5   10  \n",
       "1    1    4    5    1    6    0  \n",
       "2    7    8   14    8    8    7  \n",
       "3    6    8   14    8    7    8  \n",
       "4    6    6    5   11    8    9  \n",
       "\n",
       "[5 rows x 53 columns]"
      ]
     },
     "execution_count": 2,
     "metadata": {},
     "output_type": "execute_result"
    }
   ],
   "source": [
    "data = pd.read_csv('Sales_Transactions_Dataset_Weekly.csv')\n",
    "# para esquecer das colunas normalizadas\n",
    "data = data.filter(regex=r'Product|W')\n",
    "data.head()"
   ]
  },
  {
   "cell_type": "markdown",
   "metadata": {},
   "source": [
    "# Usando a função melt do pandas para deixar o dataframe em um formato melhor."
   ]
  },
  {
   "cell_type": "code",
   "execution_count": 3,
   "metadata": {},
   "outputs": [
    {
     "name": "stdout",
     "output_type": "stream",
     "text": [
      "(42172, 3)\n"
     ]
    },
    {
     "data": {
      "text/html": [
       "<div>\n",
       "<style scoped>\n",
       "    .dataframe tbody tr th:only-of-type {\n",
       "        vertical-align: middle;\n",
       "    }\n",
       "\n",
       "    .dataframe tbody tr th {\n",
       "        vertical-align: top;\n",
       "    }\n",
       "\n",
       "    .dataframe thead th {\n",
       "        text-align: right;\n",
       "    }\n",
       "</style>\n",
       "<table border=\"1\" class=\"dataframe\">\n",
       "  <thead>\n",
       "    <tr style=\"text-align: right;\">\n",
       "      <th></th>\n",
       "      <th>Product_Code</th>\n",
       "      <th>Week</th>\n",
       "      <th>Sales</th>\n",
       "    </tr>\n",
       "  </thead>\n",
       "  <tbody>\n",
       "    <tr>\n",
       "      <th>0</th>\n",
       "      <td>1</td>\n",
       "      <td>0</td>\n",
       "      <td>11</td>\n",
       "    </tr>\n",
       "    <tr>\n",
       "      <th>1</th>\n",
       "      <td>2</td>\n",
       "      <td>0</td>\n",
       "      <td>7</td>\n",
       "    </tr>\n",
       "    <tr>\n",
       "      <th>2</th>\n",
       "      <td>3</td>\n",
       "      <td>0</td>\n",
       "      <td>7</td>\n",
       "    </tr>\n",
       "    <tr>\n",
       "      <th>3</th>\n",
       "      <td>4</td>\n",
       "      <td>0</td>\n",
       "      <td>12</td>\n",
       "    </tr>\n",
       "    <tr>\n",
       "      <th>4</th>\n",
       "      <td>5</td>\n",
       "      <td>0</td>\n",
       "      <td>8</td>\n",
       "    </tr>\n",
       "  </tbody>\n",
       "</table>\n",
       "</div>"
      ],
      "text/plain": [
       "   Product_Code  Week  Sales\n",
       "0             1     0     11\n",
       "1             2     0      7\n",
       "2             3     0      7\n",
       "3             4     0     12\n",
       "4             5     0      8"
      ]
     },
     "execution_count": 3,
     "metadata": {},
     "output_type": "execute_result"
    }
   ],
   "source": [
    "melt = data.melt(id_vars='Product_Code', var_name='Week', value_name='Sales')\n",
    "\n",
    "# regex para pegar somente os números do código do produto\n",
    "melt['Product_Code'] = melt['Product_Code'].str.extract('(\\d+)', expand=False).astype(int)\n",
    "# regex para pegar somente os números da semana\n",
    "melt['Week'] = melt['Week'].str.extract('(\\d+)', expand=False).astype(int)\n",
    "\n",
    "# ordenando os valores por semana e código do produto\n",
    "melt = melt.sort_values(['Week', 'Product_Code'])\n",
    "# dimensões do dataframe\n",
    "print(melt.shape)\n",
    "melt.head()"
   ]
  },
  {
   "cell_type": "markdown",
   "metadata": {},
   "source": [
    "# simples de variáveis simples"
   ]
  },
  {
   "cell_type": "code",
   "execution_count": 4,
   "metadata": {},
   "outputs": [
    {
     "data": {
      "text/html": [
       "<div>\n",
       "<style scoped>\n",
       "    .dataframe tbody tr th:only-of-type {\n",
       "        vertical-align: middle;\n",
       "    }\n",
       "\n",
       "    .dataframe tbody tr th {\n",
       "        vertical-align: top;\n",
       "    }\n",
       "\n",
       "    .dataframe thead th {\n",
       "        text-align: right;\n",
       "    }\n",
       "</style>\n",
       "<table border=\"1\" class=\"dataframe\">\n",
       "  <thead>\n",
       "    <tr style=\"text-align: right;\">\n",
       "      <th></th>\n",
       "      <th>Product_Code</th>\n",
       "      <th>Week</th>\n",
       "      <th>Sales</th>\n",
       "      <th>Sales_Ultima_Semana</th>\n",
       "      <th>Diff_Sales_Ultima_Semana</th>\n",
       "    </tr>\n",
       "  </thead>\n",
       "  <tbody>\n",
       "    <tr>\n",
       "      <th>1622</th>\n",
       "      <td>1</td>\n",
       "      <td>2</td>\n",
       "      <td>10</td>\n",
       "      <td>12.0</td>\n",
       "      <td>1.0</td>\n",
       "    </tr>\n",
       "    <tr>\n",
       "      <th>1623</th>\n",
       "      <td>2</td>\n",
       "      <td>2</td>\n",
       "      <td>3</td>\n",
       "      <td>6.0</td>\n",
       "      <td>-1.0</td>\n",
       "    </tr>\n",
       "    <tr>\n",
       "      <th>1624</th>\n",
       "      <td>3</td>\n",
       "      <td>2</td>\n",
       "      <td>8</td>\n",
       "      <td>11.0</td>\n",
       "      <td>4.0</td>\n",
       "    </tr>\n",
       "    <tr>\n",
       "      <th>1625</th>\n",
       "      <td>4</td>\n",
       "      <td>2</td>\n",
       "      <td>13</td>\n",
       "      <td>8.0</td>\n",
       "      <td>-4.0</td>\n",
       "    </tr>\n",
       "    <tr>\n",
       "      <th>1626</th>\n",
       "      <td>5</td>\n",
       "      <td>2</td>\n",
       "      <td>13</td>\n",
       "      <td>5.0</td>\n",
       "      <td>-3.0</td>\n",
       "    </tr>\n",
       "  </tbody>\n",
       "</table>\n",
       "</div>"
      ],
      "text/plain": [
       "      Product_Code  Week  Sales  Sales_Ultima_Semana  Diff_Sales_Ultima_Semana\n",
       "1622             1     2     10                 12.0                       1.0\n",
       "1623             2     2      3                  6.0                      -1.0\n",
       "1624             3     2      8                 11.0                       4.0\n",
       "1625             4     2     13                  8.0                      -4.0\n",
       "1626             5     2     13                  5.0                      -3.0"
      ]
     },
     "execution_count": 4,
     "metadata": {},
     "output_type": "execute_result"
    }
   ],
   "source": [
    "melt2 = melt.copy()\n",
    "# o argumento default de shift é 1\n",
    "# vendas da última semana por produto: pegando as vendas da última semana\n",
    "melt2['Sales_Ultima_Semana'] = melt2.groupby(['Product_Code'])['Sales'].shift(1)\n",
    "# vendas da última semana por produto: pegando a diferença das vendas da última semana\n",
    "melt2['Diff_Sales_Ultima_Semana'] = melt2.groupby(['Product_Code'])['Sales_Ultima_Semana'].diff()\n",
    "# tirando os dados que contém nan\n",
    "# tirando os valores faltantes. temos poucos features\n",
    "melt2 = melt2.dropna()\n",
    "melt2.head()"
   ]
  },
  {
   "cell_type": "code",
   "execution_count": null,
   "metadata": {},
   "outputs": [],
   "source": []
  },
  {
   "cell_type": "code",
   "execution_count": 5,
   "metadata": {},
   "outputs": [
    {
     "data": {
      "text/plain": [
       "31    811\n",
       "14    811\n",
       "29    811\n",
       "28    811\n",
       "27    811\n",
       "26    811\n",
       "25    811\n",
       "24    811\n",
       "23    811\n",
       "22    811\n",
       "21    811\n",
       "20    811\n",
       "51    811\n",
       "19    811\n",
       "50    811\n",
       "18    811\n",
       "49    811\n",
       "17    811\n",
       "48    811\n",
       "16    811\n",
       "47    811\n",
       "15    811\n",
       "45    811\n",
       "13    811\n",
       "44    811\n",
       "33    811\n",
       "7     811\n",
       "12    811\n",
       "43    811\n",
       "11    811\n",
       "42    811\n",
       "10    811\n",
       "41    811\n",
       "9     811\n",
       "40    811\n",
       "8     811\n",
       "46    811\n",
       "39    811\n",
       "30    811\n",
       "6     811\n",
       "37    811\n",
       "5     811\n",
       "36    811\n",
       "4     811\n",
       "35    811\n",
       "3     811\n",
       "34    811\n",
       "2     811\n",
       "38    811\n",
       "32    811\n",
       "Name: Week, dtype: int64"
      ]
     },
     "execution_count": 5,
     "metadata": {},
     "output_type": "execute_result"
    }
   ],
   "source": [
    "melt2['Week'].value_counts().sort_values()"
   ]
  },
  {
   "cell_type": "markdown",
   "metadata": {},
   "source": [
    "# Os valores de venda para cada semana são igualmente distribuídos! "
   ]
  },
  {
   "cell_type": "markdown",
   "metadata": {},
   "source": [
    "# Baseline e Validação: obtendo um resultado simples"
   ]
  },
  {
   "cell_type": "code",
   "execution_count": 6,
   "metadata": {},
   "outputs": [],
   "source": [
    "# root mean squared log error metrics\n",
    "def rmsle(ytrue, ypred):\n",
    "    return np.sqrt(mean_squared_log_error(ytrue, ypred))"
   ]
  },
  {
   "cell_type": "markdown",
   "metadata": {},
   "source": [
    "# baseline simples usando o valor da semana a ser previsto como sendo o valor da semana anterior!"
   ]
  },
  {
   "cell_type": "code",
   "execution_count": 7,
   "metadata": {},
   "outputs": [
    {
     "name": "stdout",
     "output_type": "stream",
     "text": [
      "Semana 40 - Erro 0.51952\n",
      "Semana 41 - Erro 0.51691\n",
      "Semana 42 - Erro 0.51026\n",
      "Semana 43 - Erro 0.50792\n",
      "Semana 44 - Erro 0.53409\n",
      "Semana 45 - Erro 0.52347\n",
      "Semana 46 - Erro 0.50018\n",
      "Semana 47 - Erro 0.49138\n",
      "Semana 48 - Erro 0.50585\n",
      "Semana 49 - Erro 0.50547\n",
      "Semana 50 - Erro 0.52220\n",
      "Semana 51 - Erro 0.55242\n",
      "Média Erro = 0.51581\n"
     ]
    }
   ],
   "source": [
    "mean_error = []\n",
    "for week in range(40,52):\n",
    "    # treina nas semanas anteriores \n",
    "    train = melt2[melt2['Week'] < week]\n",
    "    # valida na semana atual\n",
    "    val = melt2[melt2['Week'] == week]\n",
    "    \n",
    "    p = val['Sales_Ultima_Semana'].values\n",
    "    \n",
    "    error = rmsle(val['Sales'].values, p)\n",
    "    print('Semana %d - Erro %.5f' % (week, error))\n",
    "    mean_error.append(error)\n",
    "print('Média Erro = %.5f' % np.mean(mean_error))"
   ]
  },
  {
   "cell_type": "code",
   "execution_count": 8,
   "metadata": {},
   "outputs": [],
   "source": [
    "# fazendo um histograma do número de vendas"
   ]
  },
  {
   "cell_type": "code",
   "execution_count": 9,
   "metadata": {},
   "outputs": [
    {
     "data": {
      "text/plain": [
       "<matplotlib.axes._subplots.AxesSubplot at 0x7f4006432ac8>"
      ]
     },
     "execution_count": 9,
     "metadata": {},
     "output_type": "execute_result"
    },
    {
     "data": {
      "image/png": "[encoded data removed]",
      "text/plain": [
       "<Figure size 576x360 with 1 Axes>"
      ]
     },
     "metadata": {
      "needs_background": "light"
     },
     "output_type": "display_data"
    }
   ],
   "source": [
    "melt2['Sales'].hist(bins=40, figsize=(8,5))"
   ]
  },
  {
   "cell_type": "markdown",
   "metadata": {},
   "source": [
    "# as vendas estão concentradas no intervalo 0-10"
   ]
  },
  {
   "cell_type": "code",
   "execution_count": null,
   "metadata": {},
   "outputs": [],
   "source": []
  },
  {
   "cell_type": "markdown",
   "metadata": {},
   "source": [
    "# Criando modelos interessantes!"
   ]
  },
  {
   "cell_type": "code",
   "execution_count": 10,
   "metadata": {},
   "outputs": [
    {
     "data": {
      "text/html": [
       "<div>\n",
       "<style scoped>\n",
       "    .dataframe tbody tr th:only-of-type {\n",
       "        vertical-align: middle;\n",
       "    }\n",
       "\n",
       "    .dataframe tbody tr th {\n",
       "        vertical-align: top;\n",
       "    }\n",
       "\n",
       "    .dataframe thead th {\n",
       "        text-align: right;\n",
       "    }\n",
       "</style>\n",
       "<table border=\"1\" class=\"dataframe\">\n",
       "  <thead>\n",
       "    <tr style=\"text-align: right;\">\n",
       "      <th></th>\n",
       "      <th>Product_Code</th>\n",
       "      <th>Week</th>\n",
       "      <th>Sales</th>\n",
       "      <th>Sales_Ultima_Semana</th>\n",
       "      <th>Media_movel_1</th>\n",
       "      <th>Diff_Sales_Ultima_Semana</th>\n",
       "      <th>Sales_Ultima_Semana-1</th>\n",
       "      <th>Media_movel_2</th>\n",
       "      <th>Diff_Sales_Ultima_Semana-1</th>\n",
       "      <th>Sales_Ultima_Semana-2</th>\n",
       "      <th>Media_movel_3</th>\n",
       "      <th>Diff_Sales_Ultima_Semana-2</th>\n",
       "    </tr>\n",
       "  </thead>\n",
       "  <tbody>\n",
       "    <tr>\n",
       "      <th>42167</th>\n",
       "      <td>815</td>\n",
       "      <td>51</td>\n",
       "      <td>0</td>\n",
       "      <td>2.0</td>\n",
       "      <td>2.0</td>\n",
       "      <td>2.0</td>\n",
       "      <td>0.0</td>\n",
       "      <td>0.0</td>\n",
       "      <td>0.0</td>\n",
       "      <td>0.0</td>\n",
       "      <td>0.333333</td>\n",
       "      <td>-1.0</td>\n",
       "    </tr>\n",
       "    <tr>\n",
       "      <th>42168</th>\n",
       "      <td>816</td>\n",
       "      <td>51</td>\n",
       "      <td>5</td>\n",
       "      <td>6.0</td>\n",
       "      <td>6.0</td>\n",
       "      <td>1.0</td>\n",
       "      <td>5.0</td>\n",
       "      <td>5.0</td>\n",
       "      <td>0.0</td>\n",
       "      <td>5.0</td>\n",
       "      <td>4.666667</td>\n",
       "      <td>0.0</td>\n",
       "    </tr>\n",
       "    <tr>\n",
       "      <th>42169</th>\n",
       "      <td>817</td>\n",
       "      <td>51</td>\n",
       "      <td>3</td>\n",
       "      <td>4.0</td>\n",
       "      <td>4.0</td>\n",
       "      <td>4.0</td>\n",
       "      <td>0.0</td>\n",
       "      <td>0.0</td>\n",
       "      <td>0.0</td>\n",
       "      <td>0.0</td>\n",
       "      <td>0.666667</td>\n",
       "      <td>0.0</td>\n",
       "    </tr>\n",
       "    <tr>\n",
       "      <th>42170</th>\n",
       "      <td>818</td>\n",
       "      <td>51</td>\n",
       "      <td>0</td>\n",
       "      <td>2.0</td>\n",
       "      <td>2.0</td>\n",
       "      <td>2.0</td>\n",
       "      <td>0.0</td>\n",
       "      <td>0.0</td>\n",
       "      <td>0.0</td>\n",
       "      <td>0.0</td>\n",
       "      <td>0.333333</td>\n",
       "      <td>0.0</td>\n",
       "    </tr>\n",
       "    <tr>\n",
       "      <th>42171</th>\n",
       "      <td>819</td>\n",
       "      <td>51</td>\n",
       "      <td>1</td>\n",
       "      <td>0.0</td>\n",
       "      <td>0.0</td>\n",
       "      <td>0.0</td>\n",
       "      <td>0.0</td>\n",
       "      <td>0.0</td>\n",
       "      <td>0.0</td>\n",
       "      <td>0.0</td>\n",
       "      <td>0.000000</td>\n",
       "      <td>0.0</td>\n",
       "    </tr>\n",
       "  </tbody>\n",
       "</table>\n",
       "</div>"
      ],
      "text/plain": [
       "       Product_Code  Week  Sales  Sales_Ultima_Semana  Media_movel_1  \\\n",
       "42167           815    51      0                  2.0            2.0   \n",
       "42168           816    51      5                  6.0            6.0   \n",
       "42169           817    51      3                  4.0            4.0   \n",
       "42170           818    51      0                  2.0            2.0   \n",
       "42171           819    51      1                  0.0            0.0   \n",
       "\n",
       "       Diff_Sales_Ultima_Semana  Sales_Ultima_Semana-1  Media_movel_2  \\\n",
       "42167                       2.0                    0.0            0.0   \n",
       "42168                       1.0                    5.0            5.0   \n",
       "42169                       4.0                    0.0            0.0   \n",
       "42170                       2.0                    0.0            0.0   \n",
       "42171                       0.0                    0.0            0.0   \n",
       "\n",
       "       Diff_Sales_Ultima_Semana-1  Sales_Ultima_Semana-2  Media_movel_3  \\\n",
       "42167                         0.0                    0.0       0.333333   \n",
       "42168                         0.0                    5.0       4.666667   \n",
       "42169                         0.0                    0.0       0.666667   \n",
       "42170                         0.0                    0.0       0.333333   \n",
       "42171                         0.0                    0.0       0.000000   \n",
       "\n",
       "       Diff_Sales_Ultima_Semana-2  \n",
       "42167                        -1.0  \n",
       "42168                         0.0  \n",
       "42169                         0.0  \n",
       "42170                         0.0  \n",
       "42171                         0.0  "
      ]
     },
     "execution_count": 10,
     "metadata": {},
     "output_type": "execute_result"
    }
   ],
   "source": [
    "melt4 = melt.copy()\n",
    "melt4['Sales_Ultima_Semana'] = melt4.groupby(['Product_Code'])['Sales'].shift()\n",
    "melt4['Media_movel_1'] = melt4.groupby(['Product_Code'])['Sales_Ultima_Semana'].rolling(1).mean().reset_index(level=0, drop=True)\n",
    "melt4['Diff_Sales_Ultima_Semana'] = melt4.groupby(['Product_Code'])['Sales_Ultima_Semana'].diff()\n",
    "melt4['Sales_Ultima_Semana-1'] = melt4.groupby(['Product_Code'])['Sales'].shift(2)\n",
    "melt4['Media_movel_2'] = melt4.groupby(['Product_Code'])['Sales_Ultima_Semana-1'].rolling(2).mean().reset_index(level=0, drop=True)\n",
    "melt4['Diff_Sales_Ultima_Semana-1'] = melt4.groupby(['Product_Code'])['Sales_Ultima_Semana-1'].diff()\n",
    "melt4['Sales_Ultima_Semana-2'] = melt4.groupby(['Product_Code'])['Sales'].shift(3)\n",
    "melt4['Media_movel_3'] = melt4.groupby(['Product_Code'])['Sales_Ultima_Semana-2'].rolling(3).mean().reset_index(level=0, drop=True)\n",
    "melt4['Diff_Sales_Ultima_Semana-2'] = melt4.groupby(['Product_Code'])['Sales_Ultima_Semana-2'].diff()\n",
    "melt4 = melt4.dropna()\n",
    "melt4.tail()"
   ]
  },
  {
   "cell_type": "code",
   "execution_count": 48,
   "metadata": {},
   "outputs": [
    {
     "name": "stdout",
     "output_type": "stream",
     "text": [
      "Semana 40 - Erro 0.42007\n",
      "Semana 41 - Erro 0.42680\n",
      "Semana 42 - Erro 0.42025\n",
      "Semana 43 - Erro 0.41694\n",
      "Semana 44 - Erro 0.42772\n",
      "Semana 45 - Erro 0.39780\n",
      "Semana 46 - Erro 0.42112\n",
      "Semana 47 - Erro 0.42974\n",
      "Semana 48 - Erro 0.41538\n",
      "Semana 49 - Erro 0.40337\n",
      "Semana 50 - Erro 0.44168\n",
      "Semana 51 - Erro 0.44709\n",
      "Média Erro = 0.42233\n"
     ]
    }
   ],
   "source": [
    "\n",
    "mean_error = []\n",
    "for week in range(40,52):\n",
    "    train = melt4[melt4['Week'] < week]\n",
    "    val = melt4[melt4['Week'] == week]\n",
    "    \n",
    "    xtr, xts = train.drop(['Sales'], axis=1), val.drop(['Sales'], axis=1)\n",
    "    ytr, yts = train['Sales'].values, val['Sales'].values\n",
    "    \n",
    "    mdl = RandomForestRegressor(n_estimators=1000, n_jobs=-1, random_state=0)\n",
    "    mdl.fit(xtr, ytr)\n",
    "    \n",
    "    p = mdl.predict(xts)\n",
    "    \n",
    "    error = rmsle(yts, p)\n",
    "    print('Semana %d - Erro %.5f' % (week, error))\n",
    "    mean_error.append(error)\n",
    "print('Média Erro = %.5f' % np.mean(mean_error))"
   ]
  },
  {
   "cell_type": "code",
   "execution_count": null,
   "metadata": {},
   "outputs": [],
   "source": []
  },
  {
   "cell_type": "markdown",
   "metadata": {},
   "source": [
    "# Modificando a função otimizada (e distribuição do alvo)"
   ]
  },
  {
   "cell_type": "markdown",
   "metadata": {},
   "source": [
    "# temos valores mais uniformemente distribuídos"
   ]
  },
  {
   "cell_type": "code",
   "execution_count": 49,
   "metadata": {},
   "outputs": [
    {
     "data": {
      "text/plain": [
       "<matplotlib.axes._subplots.AxesSubplot at 0x7fed08802ef0>"
      ]
     },
     "execution_count": 49,
     "metadata": {},
     "output_type": "execute_result"
    },
    {
     "data": {
      "image/png": "[encoded data removed]",
      "text/plain": [
       "<Figure size 720x360 with 1 Axes>"
      ]
     },
     "metadata": {
      "needs_background": "light"
     },
     "output_type": "display_data"
    }
   ],
   "source": [
    "np.log1p(melt4['Sales']).hist(bins=40, figsize=(10,5))"
   ]
  },
  {
   "cell_type": "markdown",
   "metadata": {},
   "source": [
    "# recalculando!"
   ]
  },
  {
   "cell_type": "code",
   "execution_count": 51,
   "metadata": {},
   "outputs": [
    {
     "name": "stdout",
     "output_type": "stream",
     "text": [
      "Week 40 - Error 0.40767\n",
      "Week 41 - Error 0.40515\n",
      "Week 42 - Error 0.40197\n",
      "Week 43 - Error 0.39968\n",
      "Week 44 - Error 0.41825\n",
      "Week 45 - Error 0.38842\n",
      "Week 46 - Error 0.41281\n",
      "Week 47 - Error 0.39931\n",
      "Week 48 - Error 0.40716\n",
      "Week 49 - Error 0.40968\n",
      "Week 50 - Error 0.43622\n",
      "Week 51 - Error 0.46366\n",
      "Média Erro = 0.41250\n"
     ]
    }
   ],
   "source": [
    "\n",
    "mean_error = []\n",
    "for week in range(40,52):\n",
    "    train = melt4[melt4['Week'] < week]\n",
    "    val = melt4[melt4['Week'] == week]\n",
    "    \n",
    "    xtr, xts = train.drop(['Sales'], axis=1), val.drop(['Sales'], axis=1)\n",
    "    ytr, yts = train['Sales'].values, val['Sales'].values\n",
    "    \n",
    "    mdl = RandomForestRegressor(n_estimators=1000, n_jobs=-1, random_state=0)\n",
    "    mdl.fit(xtr, np.log1p(ytr))\n",
    "    \n",
    "    p = np.expm1(mdl.predict(xts))\n",
    "    \n",
    "    error = rmsle(yts, p)\n",
    "    print('Week %d - Error %.5f' % (week, error))\n",
    "    mean_error.append(error)\n",
    "print('Média Erro = %.5f' % np.mean(mean_error))"
   ]
  },
  {
   "cell_type": "markdown",
   "metadata": {},
   "source": [
    "# engraçado, piorou muito nos últimas semanas!!!"
   ]
  },
  {
   "cell_type": "markdown",
   "metadata": {},
   "source": [
    "# Um modelo mais sofisticado"
   ]
  },
  {
   "cell_type": "code",
   "execution_count": 58,
   "metadata": {},
   "outputs": [
    {
     "name": "stdout",
     "output_type": "stream",
     "text": [
      "Semana 40 - Erro 0.40073\n",
      "Semana 41 - Erro 0.38563\n",
      "Semana 42 - Erro 0.38627\n",
      "Semana 43 - Erro 0.38782\n",
      "Semana 44 - Erro 0.40600\n",
      "Semana 45 - Erro 0.37642\n",
      "Semana 46 - Erro 0.39674\n",
      "Semana 47 - Erro 0.38189\n",
      "Semana 48 - Erro 0.39265\n",
      "Semana 49 - Erro 0.39501\n",
      "Semana 50 - Erro 0.41345\n",
      "Semana 51 - Erro 0.44514\n",
      "Média Erro = 0.39731\n"
     ]
    }
   ],
   "source": [
    "mean_error = []\n",
    "for week in range(40,52):\n",
    "    train = melt4[melt4['Week'] < week]\n",
    "    val = melt4[melt4['Week'] == week]\n",
    "    \n",
    "    xtr, xts = train.drop(['Sales'], axis=1), val.drop(['Sales'], axis=1)\n",
    "    ytr, yts = train['Sales'].values, val['Sales'].values\n",
    "    \n",
    "    mdl = LGBMRegressor(n_estimators=1000, learning_rate=0.01)\n",
    "    mdl.fit(xtr, np.log1p(ytr))\n",
    "    \n",
    "    p = np.expm1(mdl.predict(xts))\n",
    "    \n",
    "    error = rmsle(yts, p)\n",
    "    print('Semana %d - Erro %.5f' % (week, error))\n",
    "    mean_error.append(error)\n",
    "print('Média Erro = %.5f' % np.mean(mean_error))"
   ]
  },
  {
   "cell_type": "markdown",
   "metadata": {},
   "source": [
    "# colocando o target como sqrt(x)"
   ]
  },
  {
   "cell_type": "code",
   "execution_count": 11,
   "metadata": {},
   "outputs": [
    {
     "name": "stdout",
     "output_type": "stream",
     "text": [
      "Semana 40 - Erro 0.41173\n",
      "Semana 41 - Erro 0.38888\n",
      "Semana 42 - Erro 0.39358\n",
      "Semana 43 - Erro 0.39307\n",
      "Semana 44 - Erro 0.41669\n",
      "Semana 45 - Erro 0.38529\n",
      "Semana 46 - Erro 0.40727\n",
      "Semana 47 - Erro 0.37940\n",
      "Semana 48 - Erro 0.39922\n",
      "Semana 49 - Erro 0.40028\n",
      "Semana 50 - Erro 0.41889\n",
      "Semana 51 - Erro 0.44841\n",
      "Média Erro = 0.40356\n"
     ]
    }
   ],
   "source": [
    "mean_error = []\n",
    "for week in range(40,52):\n",
    "    train = melt4[melt4['Week'] < week]\n",
    "    val = melt4[melt4['Week'] == week]\n",
    "    \n",
    "    xtr, xts = train.drop(['Sales'], axis=1), val.drop(['Sales'], axis=1)\n",
    "    ytr, yts = train['Sales'].values, val['Sales'].values\n",
    "    \n",
    "    mdl = LGBMRegressor(n_estimators=1000, learning_rate=0.01)\n",
    "    mdl.fit(xtr, np.sqrt(ytr))\n",
    "    \n",
    "    p = (mdl.predict(xts))**2\n",
    "    \n",
    "    error = rmsle(yts, p)\n",
    "    print('Semana %d - Erro %.5f' % (week, error))\n",
    "    mean_error.append(error)\n",
    "print('Média Erro = %.5f' % np.mean(mean_error))"
   ]
  },
  {
   "cell_type": "markdown",
   "metadata": {},
   "source": [
    "# log para o target é melhor!"
   ]
  },
  {
   "cell_type": "code",
   "execution_count": null,
   "metadata": {},
   "outputs": [],
   "source": []
  },
  {
   "cell_type": "code",
   "execution_count": 94,
   "metadata": {},
   "outputs": [
    {
     "data": {
      "text/plain": [
       "[<matplotlib.lines.Line2D at 0x7fed066904a8>]"
      ]
     },
     "execution_count": 94,
     "metadata": {},
     "output_type": "execute_result"
    },
    {
     "data": {
      "image/png": "[encoded data removed]",
      "text/plain": [
       "<Figure size 1080x720 with 1 Axes>"
      ]
     },
     "metadata": {
      "needs_background": "light"
     },
     "output_type": "display_data"
    }
   ],
   "source": [
    "import matplotlib.pyplot as plt\n",
    "val.loc[:, 'Prediction'] = np.round(p)\n",
    "val.plot.scatter(x='Prediction', y='Sales', figsize=(15,10), title='Prediction vs Sales', \n",
    "                 ylim=(0,40), xlim=(0,40))\n",
    "\n",
    "xx=[0,10,20,30,40]\n",
    "yy=[0,10,20,30,40]\n",
    "plt.plot(xx,yy,linewidth=5,color='black')"
   ]
  },
  {
   "cell_type": "markdown",
   "metadata": {},
   "source": [
    "# o modelo está errando mais para vendas de 20 unidades."
   ]
  },
  {
   "cell_type": "code",
   "execution_count": 85,
   "metadata": {},
   "outputs": [
    {
     "data": {
      "text/plain": [
       "(257,)"
      ]
     },
     "execution_count": 85,
     "metadata": {},
     "output_type": "execute_result"
    }
   ],
   "source": [
    "sel.shape"
   ]
  },
  {
   "cell_type": "code",
   "execution_count": 39,
   "metadata": {},
   "outputs": [],
   "source": [
    "df_aux=melt.groupby(['Week'])['Sales'].sum()\n"
   ]
  },
  {
   "cell_type": "code",
   "execution_count": 43,
   "metadata": {},
   "outputs": [],
   "source": [
    "#df_aux"
   ]
  },
  {
   "cell_type": "code",
   "execution_count": 32,
   "metadata": {},
   "outputs": [
    {
     "data": {
      "text/plain": [
       "42172"
      ]
     },
     "execution_count": 32,
     "metadata": {},
     "output_type": "execute_result"
    }
   ],
   "source": [
    "melt.shape[0]"
   ]
  },
  {
   "cell_type": "code",
   "execution_count": 36,
   "metadata": {},
   "outputs": [
    {
     "data": {
      "text/plain": [
       "0"
      ]
     },
     "execution_count": 36,
     "metadata": {},
     "output_type": "execute_result"
    }
   ],
   "source": [
    "melt['Week'][0]"
   ]
  },
  {
   "cell_type": "code",
   "execution_count": 44,
   "metadata": {},
   "outputs": [],
   "source": [
    "df_aux=melt.groupby(['Week'])['Sales'].sum()\n",
    "list_week=[]\n",
    "for i in range(melt.shape[0]):\n",
    "    week=melt['Week'][i]\n",
    "    list_week.append(df_aux[week])\n",
    "    \n"
   ]
  },
  {
   "cell_type": "code",
   "execution_count": 46,
   "metadata": {},
   "outputs": [],
   "source": [
    "#list_week"
   ]
  },
  {
   "cell_type": "code",
   "execution_count": null,
   "metadata": {},
   "outputs": [],
   "source": []
  },
  {
   "cell_type": "code",
   "execution_count": null,
   "metadata": {},
   "outputs": [],
   "source": []
  },
  {
   "cell_type": "code",
   "execution_count": 54,
   "metadata": {},
   "outputs": [
    {
     "data": {
      "text/html": [
       "<div>\n",
       "<style scoped>\n",
       "    .dataframe tbody tr th:only-of-type {\n",
       "        vertical-align: middle;\n",
       "    }\n",
       "\n",
       "    .dataframe tbody tr th {\n",
       "        vertical-align: top;\n",
       "    }\n",
       "\n",
       "    .dataframe thead th {\n",
       "        text-align: right;\n",
       "    }\n",
       "</style>\n",
       "<table border=\"1\" class=\"dataframe\">\n",
       "  <thead>\n",
       "    <tr style=\"text-align: right;\">\n",
       "      <th></th>\n",
       "      <th>Product_Code</th>\n",
       "      <th>Week</th>\n",
       "      <th>Sales</th>\n",
       "      <th>Sales_Ultima_Semana</th>\n",
       "      <th>Media_movel_1</th>\n",
       "      <th>Diff_Sales_Ultima_Semana</th>\n",
       "      <th>weekallsales</th>\n",
       "      <th>Media_movel_weeksales</th>\n",
       "      <th>Diff_Sales_weekallsales</th>\n",
       "      <th>Sales_Ultima_Semana-1</th>\n",
       "      <th>...</th>\n",
       "      <th>Diff_Sales_Ultima_Semana-1</th>\n",
       "      <th>weekallsales_2</th>\n",
       "      <th>Media_movel_weeksales_2</th>\n",
       "      <th>Diff_Sales_weekallsales_2</th>\n",
       "      <th>Sales_Ultima_Semana-2</th>\n",
       "      <th>Media_movel_3</th>\n",
       "      <th>Diff_Sales_Ultima_Semana-2</th>\n",
       "      <th>weekallsales_3</th>\n",
       "      <th>Media_movel_weeksales_3</th>\n",
       "      <th>Diff_Sales_weekallsales_3</th>\n",
       "    </tr>\n",
       "  </thead>\n",
       "  <tbody>\n",
       "    <tr>\n",
       "      <th>42167</th>\n",
       "      <td>815</td>\n",
       "      <td>51</td>\n",
       "      <td>0</td>\n",
       "      <td>2.0</td>\n",
       "      <td>2.0</td>\n",
       "      <td>2.0</td>\n",
       "      <td>7209.0</td>\n",
       "      <td>7209.0</td>\n",
       "      <td>0.0</td>\n",
       "      <td>0.0</td>\n",
       "      <td>...</td>\n",
       "      <td>0.0</td>\n",
       "      <td>7209.0</td>\n",
       "      <td>7209.0</td>\n",
       "      <td>0.0</td>\n",
       "      <td>0.0</td>\n",
       "      <td>0.333333</td>\n",
       "      <td>-1.0</td>\n",
       "      <td>7209.0</td>\n",
       "      <td>7209.0</td>\n",
       "      <td>0.0</td>\n",
       "    </tr>\n",
       "    <tr>\n",
       "      <th>42168</th>\n",
       "      <td>816</td>\n",
       "      <td>51</td>\n",
       "      <td>5</td>\n",
       "      <td>6.0</td>\n",
       "      <td>6.0</td>\n",
       "      <td>1.0</td>\n",
       "      <td>7209.0</td>\n",
       "      <td>7209.0</td>\n",
       "      <td>0.0</td>\n",
       "      <td>5.0</td>\n",
       "      <td>...</td>\n",
       "      <td>0.0</td>\n",
       "      <td>7209.0</td>\n",
       "      <td>7209.0</td>\n",
       "      <td>0.0</td>\n",
       "      <td>5.0</td>\n",
       "      <td>4.666667</td>\n",
       "      <td>0.0</td>\n",
       "      <td>7209.0</td>\n",
       "      <td>7209.0</td>\n",
       "      <td>0.0</td>\n",
       "    </tr>\n",
       "    <tr>\n",
       "      <th>42169</th>\n",
       "      <td>817</td>\n",
       "      <td>51</td>\n",
       "      <td>3</td>\n",
       "      <td>4.0</td>\n",
       "      <td>4.0</td>\n",
       "      <td>4.0</td>\n",
       "      <td>7209.0</td>\n",
       "      <td>7209.0</td>\n",
       "      <td>0.0</td>\n",
       "      <td>0.0</td>\n",
       "      <td>...</td>\n",
       "      <td>0.0</td>\n",
       "      <td>7209.0</td>\n",
       "      <td>7209.0</td>\n",
       "      <td>0.0</td>\n",
       "      <td>0.0</td>\n",
       "      <td>0.666667</td>\n",
       "      <td>0.0</td>\n",
       "      <td>7209.0</td>\n",
       "      <td>7209.0</td>\n",
       "      <td>0.0</td>\n",
       "    </tr>\n",
       "    <tr>\n",
       "      <th>42170</th>\n",
       "      <td>818</td>\n",
       "      <td>51</td>\n",
       "      <td>0</td>\n",
       "      <td>2.0</td>\n",
       "      <td>2.0</td>\n",
       "      <td>2.0</td>\n",
       "      <td>7209.0</td>\n",
       "      <td>7209.0</td>\n",
       "      <td>0.0</td>\n",
       "      <td>0.0</td>\n",
       "      <td>...</td>\n",
       "      <td>0.0</td>\n",
       "      <td>7209.0</td>\n",
       "      <td>7209.0</td>\n",
       "      <td>0.0</td>\n",
       "      <td>0.0</td>\n",
       "      <td>0.333333</td>\n",
       "      <td>0.0</td>\n",
       "      <td>7209.0</td>\n",
       "      <td>7209.0</td>\n",
       "      <td>0.0</td>\n",
       "    </tr>\n",
       "    <tr>\n",
       "      <th>42171</th>\n",
       "      <td>819</td>\n",
       "      <td>51</td>\n",
       "      <td>1</td>\n",
       "      <td>0.0</td>\n",
       "      <td>0.0</td>\n",
       "      <td>0.0</td>\n",
       "      <td>7209.0</td>\n",
       "      <td>7209.0</td>\n",
       "      <td>0.0</td>\n",
       "      <td>0.0</td>\n",
       "      <td>...</td>\n",
       "      <td>0.0</td>\n",
       "      <td>7209.0</td>\n",
       "      <td>7209.0</td>\n",
       "      <td>0.0</td>\n",
       "      <td>0.0</td>\n",
       "      <td>0.000000</td>\n",
       "      <td>0.0</td>\n",
       "      <td>7209.0</td>\n",
       "      <td>7209.0</td>\n",
       "      <td>0.0</td>\n",
       "    </tr>\n",
       "  </tbody>\n",
       "</table>\n",
       "<p>5 rows × 21 columns</p>\n",
       "</div>"
      ],
      "text/plain": [
       "       Product_Code  Week  Sales  Sales_Ultima_Semana  Media_movel_1  \\\n",
       "42167           815    51      0                  2.0            2.0   \n",
       "42168           816    51      5                  6.0            6.0   \n",
       "42169           817    51      3                  4.0            4.0   \n",
       "42170           818    51      0                  2.0            2.0   \n",
       "42171           819    51      1                  0.0            0.0   \n",
       "\n",
       "       Diff_Sales_Ultima_Semana  weekallsales  Media_movel_weeksales  \\\n",
       "42167                       2.0        7209.0                 7209.0   \n",
       "42168                       1.0        7209.0                 7209.0   \n",
       "42169                       4.0        7209.0                 7209.0   \n",
       "42170                       2.0        7209.0                 7209.0   \n",
       "42171                       0.0        7209.0                 7209.0   \n",
       "\n",
       "       Diff_Sales_weekallsales  Sales_Ultima_Semana-1  ...  \\\n",
       "42167                      0.0                    0.0  ...   \n",
       "42168                      0.0                    5.0  ...   \n",
       "42169                      0.0                    0.0  ...   \n",
       "42170                      0.0                    0.0  ...   \n",
       "42171                      0.0                    0.0  ...   \n",
       "\n",
       "       Diff_Sales_Ultima_Semana-1  weekallsales_2  Media_movel_weeksales_2  \\\n",
       "42167                         0.0          7209.0                   7209.0   \n",
       "42168                         0.0          7209.0                   7209.0   \n",
       "42169                         0.0          7209.0                   7209.0   \n",
       "42170                         0.0          7209.0                   7209.0   \n",
       "42171                         0.0          7209.0                   7209.0   \n",
       "\n",
       "       Diff_Sales_weekallsales_2  Sales_Ultima_Semana-2  Media_movel_3  \\\n",
       "42167                        0.0                    0.0       0.333333   \n",
       "42168                        0.0                    5.0       4.666667   \n",
       "42169                        0.0                    0.0       0.666667   \n",
       "42170                        0.0                    0.0       0.333333   \n",
       "42171                        0.0                    0.0       0.000000   \n",
       "\n",
       "       Diff_Sales_Ultima_Semana-2  weekallsales_3  Media_movel_weeksales_3  \\\n",
       "42167                        -1.0          7209.0                   7209.0   \n",
       "42168                         0.0          7209.0                   7209.0   \n",
       "42169                         0.0          7209.0                   7209.0   \n",
       "42170                         0.0          7209.0                   7209.0   \n",
       "42171                         0.0          7209.0                   7209.0   \n",
       "\n",
       "       Diff_Sales_weekallsales_3  \n",
       "42167                        0.0  \n",
       "42168                        0.0  \n",
       "42169                        0.0  \n",
       "42170                        0.0  \n",
       "42171                        0.0  \n",
       "\n",
       "[5 rows x 21 columns]"
      ]
     },
     "execution_count": 54,
     "metadata": {},
     "output_type": "execute_result"
    }
   ],
   "source": [
    "melt4 = melt.copy()\n",
    "melt4['Sales_Ultima_Semana'] = melt4.groupby(['Product_Code'])['Sales'].shift()\n",
    "melt4['Media_movel_1'] = melt4.groupby(['Product_Code'])['Sales_Ultima_Semana'].rolling(1).mean().reset_index(level=0, drop=True)\n",
    "melt4['Diff_Sales_Ultima_Semana'] = melt4.groupby(['Product_Code'])['Sales_Ultima_Semana'].diff()\n",
    "\n",
    "#melt4['SalesperWeek']=melt4.groupby(['Week'])['Sales'].shift()\n",
    "#melt4['PerweekMedia_movel_1'] = melt4.groupby(['Product_Code'])['SalesperWeek'].rolling(2).mean().reset_index(level=0, drop=True)\n",
    "#melt4['Perweek_Diff_Sales_Ultima_Semana'] = melt4.groupby(['Product_Code'])['SalesperWeek'].diff()\n",
    "df_aux=melt.groupby(['Week'])['Sales'].sum()\n",
    "list_week=[]\n",
    "for i in range(melt.shape[0]):\n",
    "    week=melt['Week'][i]\n",
    "    list_week.append(df_aux[week])\n",
    "melt4['weekallsales']=list_week\n",
    "\n",
    "melt4['weekallsales'] = melt4.groupby(['Week'])['weekallsales'].shift()\n",
    "melt4['Media_movel_weeksales'] = melt4.groupby(['Week'])['weekallsales'].rolling(2).mean().reset_index(level=0, drop=True)\n",
    "melt4['Diff_Sales_weekallsales'] = melt4.groupby(['Week'])['weekallsales'].diff()\n",
    "\n",
    "\n",
    "melt4['Sales_Ultima_Semana-1'] = melt4.groupby(['Product_Code'])['Sales'].shift(2)\n",
    "melt4['Media_movel_2'] = melt4.groupby(['Product_Code'])['Sales_Ultima_Semana-1'].rolling(2).mean().reset_index(level=0, drop=True)\n",
    "melt4['Diff_Sales_Ultima_Semana-1'] = melt4.groupby(['Product_Code'])['Sales_Ultima_Semana-1'].diff()\n",
    "\n",
    "#melt4['SalesperWeek_2']=melt4.groupby(['Week'])['Sales'].shift(2)\n",
    "#melt4['PerweekMedia_movel_2'] = melt4.groupby(['Product_Code'])['SalesperWeek'].rolling(4).mean().reset_index(level=0, drop=True)\n",
    "#melt4['Perweek_Diff_Sales_Ultima_Semana_2'] = melt4.groupby(['Product_Code'])['SalesperWeek'].diff()\n",
    "\n",
    "\n",
    "melt4['weekallsales_2'] = melt4.groupby(['Week'])['weekallsales'].shift(2)\n",
    "melt4['Media_movel_weeksales_2'] = melt4.groupby(['Week'])['weekallsales'].rolling(4).mean().reset_index(level=0, drop=True)\n",
    "melt4['Diff_Sales_weekallsales_2'] = melt4.groupby(['Week'])['weekallsales'].diff(2)\n",
    "\n",
    "\n",
    "melt4['Sales_Ultima_Semana-2'] = melt4.groupby(['Product_Code'])['Sales'].shift(3)\n",
    "melt4['Media_movel_3'] = melt4.groupby(['Product_Code'])['Sales_Ultima_Semana-2'].rolling(3).mean().reset_index(level=0, drop=True)\n",
    "melt4['Diff_Sales_Ultima_Semana-2'] = melt4.groupby(['Product_Code'])['Sales_Ultima_Semana-2'].diff()\n",
    "\n",
    "melt4['weekallsales_3'] = melt4.groupby(['Week'])['weekallsales'].shift(3)\n",
    "melt4['Media_movel_weeksales_3'] = melt4.groupby(['Week'])['weekallsales'].rolling(8).mean().reset_index(level=0, drop=True)\n",
    "melt4['Diff_Sales_weekallsales_3'] = melt4.groupby(['Week'])['weekallsales'].diff(3)\n",
    "\n",
    "\n",
    "\n",
    "melt4 = melt4.dropna()\n",
    "melt4.tail()\n",
    "\n",
    "\n",
    "#melt4['SalesperWeek_3']=melt4.groupby(['Week'])['Sales'].shift(3)\n",
    "#melt4['PerweekMedia_movel_3'] = melt4.groupby(['Product_Code'])['SalesperWeek'].rolling(6).mean().reset_index(level=0, drop=True)\n",
    "#melt4['Perweek_Diff_Sales_Ultima_Semana_3'] = melt4.groupby(['Product_Code'])['SalesperWeek'].diff()\n",
    "\n"
   ]
  },
  {
   "cell_type": "code",
   "execution_count": 60,
   "metadata": {},
   "outputs": [
    {
     "name": "stdout",
     "output_type": "stream",
     "text": [
      "Semana 40 - Erro 0.40137\n",
      "Semana 41 - Erro 0.38608\n",
      "Semana 42 - Erro 0.38729\n",
      "Semana 43 - Erro 0.38751\n",
      "Semana 44 - Erro 0.40707\n",
      "Semana 45 - Erro 0.37430\n",
      "Semana 46 - Erro 0.39651\n",
      "Semana 47 - Erro 0.38039\n",
      "Semana 48 - Erro 0.39163\n",
      "Semana 49 - Erro 0.39334\n",
      "Semana 50 - Erro 0.41228\n",
      "Semana 51 - Erro 0.43789\n",
      "Média Erro = 0.39631\n"
     ]
    }
   ],
   "source": [
    "mean_error = []\n",
    "for week in range(40,52):\n",
    "    train = melt4[melt4['Week'] < week]\n",
    "    val = melt4[melt4['Week'] == week]\n",
    "    \n",
    "    xtr, xts = train.drop(['Sales'], axis=1), val.drop(['Sales'], axis=1)\n",
    "    ytr, yts = train['Sales'].values, val['Sales'].values\n",
    "    \n",
    "    mdl = LGBMRegressor(n_estimators=1000, learning_rate=0.01)\n",
    "    mdl.fit(xtr, np.log1p(ytr))\n",
    "    \n",
    "    p = np.expm1(mdl.predict(xts))\n",
    "    \n",
    "    error = rmsle(yts, p)\n",
    "    print('Semana %d - Erro %.5f' % (week, error))\n",
    "    mean_error.append(error)\n",
    "print('Média Erro = %.5f' % np.mean(mean_error))"
   ]
  },
  {
   "cell_type": "code",
   "execution_count": null,
   "metadata": {},
   "outputs": [],
   "source": []
  },
  {
   "cell_type": "code",
   "execution_count": 61,
   "metadata": {},
   "outputs": [
    {
     "data": {
      "text/html": [
       "<div>\n",
       "<style scoped>\n",
       "    .dataframe tbody tr th:only-of-type {\n",
       "        vertical-align: middle;\n",
       "    }\n",
       "\n",
       "    .dataframe tbody tr th {\n",
       "        vertical-align: top;\n",
       "    }\n",
       "\n",
       "    .dataframe thead th {\n",
       "        text-align: right;\n",
       "    }\n",
       "</style>\n",
       "<table border=\"1\" class=\"dataframe\">\n",
       "  <thead>\n",
       "    <tr style=\"text-align: right;\">\n",
       "      <th></th>\n",
       "      <th>Product_Code</th>\n",
       "      <th>Week</th>\n",
       "      <th>Sales</th>\n",
       "    </tr>\n",
       "  </thead>\n",
       "  <tbody>\n",
       "    <tr>\n",
       "      <th>0</th>\n",
       "      <td>1</td>\n",
       "      <td>0</td>\n",
       "      <td>11</td>\n",
       "    </tr>\n",
       "    <tr>\n",
       "      <th>1</th>\n",
       "      <td>2</td>\n",
       "      <td>0</td>\n",
       "      <td>7</td>\n",
       "    </tr>\n",
       "    <tr>\n",
       "      <th>2</th>\n",
       "      <td>3</td>\n",
       "      <td>0</td>\n",
       "      <td>7</td>\n",
       "    </tr>\n",
       "    <tr>\n",
       "      <th>3</th>\n",
       "      <td>4</td>\n",
       "      <td>0</td>\n",
       "      <td>12</td>\n",
       "    </tr>\n",
       "    <tr>\n",
       "      <th>4</th>\n",
       "      <td>5</td>\n",
       "      <td>0</td>\n",
       "      <td>8</td>\n",
       "    </tr>\n",
       "    <tr>\n",
       "      <th>...</th>\n",
       "      <td>...</td>\n",
       "      <td>...</td>\n",
       "      <td>...</td>\n",
       "    </tr>\n",
       "    <tr>\n",
       "      <th>42167</th>\n",
       "      <td>815</td>\n",
       "      <td>51</td>\n",
       "      <td>0</td>\n",
       "    </tr>\n",
       "    <tr>\n",
       "      <th>42168</th>\n",
       "      <td>816</td>\n",
       "      <td>51</td>\n",
       "      <td>5</td>\n",
       "    </tr>\n",
       "    <tr>\n",
       "      <th>42169</th>\n",
       "      <td>817</td>\n",
       "      <td>51</td>\n",
       "      <td>3</td>\n",
       "    </tr>\n",
       "    <tr>\n",
       "      <th>42170</th>\n",
       "      <td>818</td>\n",
       "      <td>51</td>\n",
       "      <td>0</td>\n",
       "    </tr>\n",
       "    <tr>\n",
       "      <th>42171</th>\n",
       "      <td>819</td>\n",
       "      <td>51</td>\n",
       "      <td>1</td>\n",
       "    </tr>\n",
       "  </tbody>\n",
       "</table>\n",
       "<p>42172 rows × 3 columns</p>\n",
       "</div>"
      ],
      "text/plain": [
       "       Product_Code  Week  Sales\n",
       "0                 1     0     11\n",
       "1                 2     0      7\n",
       "2                 3     0      7\n",
       "3                 4     0     12\n",
       "4                 5     0      8\n",
       "...             ...   ...    ...\n",
       "42167           815    51      0\n",
       "42168           816    51      5\n",
       "42169           817    51      3\n",
       "42170           818    51      0\n",
       "42171           819    51      1\n",
       "\n",
       "[42172 rows x 3 columns]"
      ]
     },
     "execution_count": 61,
     "metadata": {},
     "output_type": "execute_result"
    }
   ],
   "source": [
    "melt"
   ]
  },
  {
   "cell_type": "code",
   "execution_count": null,
   "metadata": {},
   "outputs": [],
   "source": []
  }
 ],
 "metadata": {
  "kernelspec": {
   "display_name": "Python 3",
   "language": "python",
   "name": "python3"
  },
  "language_info": {
   "codemirror_mode": {
    "name": "ipython",
    "version": 3
   },
   "file_extension": ".py",
   "mimetype": "text/x-python",
   "name": "python",
   "nbconvert_exporter": "python",
   "pygments_lexer": "ipython3",
   "version": "3.6.10"
  }
 },
 "nbformat": 4,
 "nbformat_minor": 4
}
